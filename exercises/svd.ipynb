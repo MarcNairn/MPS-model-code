{
 "cells": [
  {
   "cell_type": "markdown",
   "metadata": {},
   "source": [
    "Now that we have a diagrammatic notation and ability to manipulate our tensors, we go back to their MPS representation. In particular, we want to explicitly relate the matrices in the MPS to the vector of probability amplitudes. "
   ]
  },
  {
   "cell_type": "markdown",
   "metadata": {},
   "source": [
    "Below we can perform a simple reshaping of a state vector into the MPS form we want to work with. Recall the object $\\psi_{i_{1}, i_{2}, i_{N}}$. We can think of $i_{1}, i_{2}, i_{N}$ as a binary string representation of the state vector, that is the probability amplitude corresponding to $|000\\rangle$ is in the 0th position, $|001\\rangle$ is in the 1st and so on. We now choose to separate the first spin from the reminder of the string such that \n",
    "$|000\\rangle$ corresponds to $\\psi_{0,0}$, $|001\\rangle$ corresponds to $\\psi_{0,1}$ and $|100\\rangle$ corresponds to $\\psi_{1,0}$ and so on. This reshaping can be performed as follows:\n",
    " "
   ]
  },
  {
   "cell_type": "code",
   "execution_count": null,
   "metadata": {},
   "outputs": [],
   "source": [
    "psi  # the vector of probability amplitudes\n",
    "\n",
    "# Reshape the vector into a matrix\n",
    "psi = psi.reshape(2, -1)"
   ]
  },
  {
   "cell_type": "markdown",
   "metadata": {},
   "source": [
    "This constitutes the first step in the SVD procedure. We have now specified the new matrix should have 2 rows, and we let python figure out how many columns it should contain. \n",
    "\n",
    "Once we have this matrix we can now decompose it into its singular value consituents, $$ A = USV^\\dagger .$$"
   ]
  },
  {
   "cell_type": "markdown",
   "metadata": {},
   "source": [
    "$U$ and $V$ are unitary matrices and $S$ is a diagonal matrix which contains elements $\\lambda_i$ known as the *singular values*. These are non-negative and ordered from largest to smallest due to the nature of our decomposition. In this context, the singular value decomposition is the same as the Schmidt decomposition, and the singular values are the Schmidt coefficients, and we have $\\sum_i\\lambda_i = 1$. \n",
    "\n",
    "The SVD can be computed in python as using `numpy.linalg`"
   ]
  },
  {
   "cell_type": "code",
   "execution_count": 2,
   "metadata": {},
   "outputs": [],
   "source": [
    "from fix_pathing import root_dir\n",
    "\n",
    "import numpy as np\n",
    "from src.mps import MPS\n",
    "\n",
    "import numpy.linalg as la\n",
    "# Define the tensors\n",
    "A = np.random.randn(4, 2, 4)  # (left, physical, right)\n",
    "B = np.random.randn(4, 2, 4)  # (left, physical, right)\n",
    "\n",
    "# Contract the tensors along the physical indices\n",
    "theta = np.tensordot(A, B, axes=([1], [1]))  # (l1,p,r1) * (l2,p,r2) -> (l1,r1,l2,r2)\n",
    "theta = np.transpose(theta, (0, 2, 1, 3))  # (l1,r1,l2,r2) -> (l1,l2,r1,r2)\n",
    "\n",
    "U, S, Vdg = la.svd(theta, full_matrices=False)"
   ]
  }
 ],
 "metadata": {
  "kernelspec": {
   "display_name": "mps_course",
   "language": "python",
   "name": "python3"
  },
  "language_info": {
   "codemirror_mode": {
    "name": "ipython",
    "version": 3
   },
   "file_extension": ".py",
   "mimetype": "text/x-python",
   "name": "python",
   "nbconvert_exporter": "python",
   "pygments_lexer": "ipython3",
   "version": "3.11.0"
  }
 },
 "nbformat": 4,
 "nbformat_minor": 2
}
