{
 "cells": [
  {
   "cell_type": "markdown",
   "metadata": {},
   "source": [
    " Here we use the MPS class to perform basic operations on tensors.  We go through the manipulation of tensor indeces and tensor contraction."
   ]
  },
  {
   "cell_type": "code",
   "execution_count": 4,
   "metadata": {},
   "outputs": [],
   "source": [
    "from fix_pathing import root_dir\n",
    "\n",
    "import numpy as np\n",
    "from src.mps import MPS\n",
    "\n",
    "## Tensor and vector\n",
    "\n",
    "# Define the tensors\n",
    "v = np.array([1, 2])  # vector\n",
    "M = np.array([[1, 2], [3, 4]])  # matrix\n",
    "\n",
    "# Contract the matrix with the vector\n",
    "result = np.tensordot(M, v, axes=([1], [0]))\n",
    "\n",
    "# check that the result matches\n",
    "assert np.allclose(result, M @ v), \"matrix-vector multiplication failed!\" \n",
    "# %%\n",
    "\n",
    "# Tensor and tensor\n",
    "\n",
    "# Define the tensors\n",
    "A = np.array([[1, 2], [3, 4]])  # matrix\n",
    "B = np.array([[5, 6], [7, 8]])  # matrix\n",
    "\n",
    "# Contract the matrices\n",
    "result1 = np.tensordot(A, B, axes=([1], [0]))\n",
    "# Contract the matrices in the opposite order\n",
    "result2 = np.tensordot(B, A, axes=([0], [1]))\n",
    "result2 = np.transpose(result2, (1, 0))  # transpose the result to match the order of the indices\n",
    "\n",
    "\n",
    "# check that the result matches\n",
    "assert np.allclose(result1, A @ B), \"matrix-matrix method 1 failed!\"  \n",
    "assert np.allclose(result2, A @ B), \"matrix-matrix method 2 failed!\" \n",
    "# %%\n",
    "\n",
    "\n",
    "# Rank 3 tensor and rank 3 tensor\n",
    "\n",
    "# Define the tensors\n",
    "A = np.random.randn(4, 2, 4)  # (left, physical, right)\n",
    "B = np.random.randn(4, 2, 4)  # (left, physical, right)\n",
    "\n",
    "# Contract the tensors along the physical indices\n",
    "theta = np.tensordot(A, B, axes=([1], [1]))  # (l1,p,r1) * (l2,p,r2) -> (l1,r1,l2,r2)\n",
    "theta = np.transpose(theta, (0, 2, 1, 3))  # (l1,r1,l2,r2) -> (l1,l2,r1,r2)\n"
   ]
  },
  {
   "cell_type": "markdown",
   "metadata": {},
   "source": [
    " Contracting tensors exercises. \n",
    "\n",
    " NOTE: Contraction is **ALWAYS** performed for the **physical index**. "
   ]
  },
  {
   "cell_type": "markdown",
   "metadata": {},
   "source": [
    "*Trace*: To perform the trace we contract over **both** indices\n",
    "\n",
    "$$ \\text{Tr}\\big(AB\\big)  = \\sum_{ij}A_{ij}B_{ji}"
   ]
  },
  {
   "cell_type": "code",
   "execution_count": 21,
   "metadata": {},
   "outputs": [],
   "source": [
    "A = np.array([[1, 2], [0, 1]])\n",
    "B = np.array([[0, 2], [1, 2]])\n",
    "\n",
    "TrAB = np.tensordot(A,B, axes=([0,1],[0,1]))\n",
    "\n",
    "TrBA = np.tensordot(B,A, axes=([0,1],[0,1])) \n",
    "\n",
    "TrAB2 = np.tensordot(A,B, axes=([1,0],[1,0]))\n",
    "\n",
    "TrBA2 = np.tensordot(B,A, axes=([1,0],[1,0])) "
   ]
  },
  {
   "cell_type": "markdown",
   "metadata": {},
   "source": [
    "All should yield the same result by the cyclic property of the trace... and they do!"
   ]
  },
  {
   "cell_type": "markdown",
   "metadata": {},
   "source": [
    "*Computing $A^\\dag B$* with $A^\\dag$ in the first position and then also in the second (making use of properties of the transpose)"
   ]
  },
  {
   "cell_type": "code",
   "execution_count": 17,
   "metadata": {},
   "outputs": [
    {
     "name": "stdout",
     "output_type": "stream",
     "text": [
      "[[ 5 18]\n",
      " [14 32]]\n"
     ]
    }
   ],
   "source": [
    "A = np.array([[1, 2], [3, 4]])\n",
    "B = np.array([[5, 6], [7, 8]])\n",
    "\n",
    "Adag = np.transpose(A)\n",
    "Bdag = np.transpose(B)\n",
    "\n",
    "AdagB1 = Adag*B\n",
    "\n",
    "print(AdagB1)\n"
   ]
  },
  {
   "cell_type": "code",
   "execution_count": 22,
   "metadata": {},
   "outputs": [
    {
     "name": "stdout",
     "output_type": "stream",
     "text": [
      "[[ 5 18]\n",
      " [14 32]]\n"
     ]
    }
   ],
   "source": [
    "AdagB2 = np.transpose(B*Adag, (0,1))\n",
    "print(AdagB2)"
   ]
  }
 ],
 "metadata": {
  "kernelspec": {
   "display_name": "mps_course",
   "language": "python",
   "name": "python3"
  },
  "language_info": {
   "codemirror_mode": {
    "name": "ipython",
    "version": 3
   },
   "file_extension": ".py",
   "mimetype": "text/x-python",
   "name": "python",
   "nbconvert_exporter": "python",
   "pygments_lexer": "ipython3",
   "version": "3.11.0"
  }
 },
 "nbformat": 4,
 "nbformat_minor": 2
}
